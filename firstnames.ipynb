{
 "cells": [
  {
   "cell_type": "markdown",
   "metadata": {},
   "source": [
    "# First names processing"
   ]
  },
  {
   "cell_type": "code",
   "execution_count": 1,
   "metadata": {
    "collapsed": true
   },
   "outputs": [],
   "source": [
    "import os\n",
    "import sys\n",
    "\n",
    "def is_spark_initialized():\n",
    "    try:\n",
    "        if spark:\n",
    "            return True\n",
    "    except:\n",
    "        return False\n",
    "    \n",
    "if not is_spark_initialized():\n",
    "    if not \"SPARK_HOME\" in os.environ:\n",
    "        raise \"SPARK_HOME is not defined !\"\n",
    "\n",
    "    sys.path.insert(0, os.path.join(os.environ[\"SPARK_HOME\"], \"python\"))\n",
    "    sys.path.insert(0, os.path.join(os.environ[\"SPARK_HOME\"], \"python\", \"lib\", \"pyspark.zip\"))\n",
    "    sys.path.insert(0, os.path.join(os.environ[\"SPARK_HOME\"], \"python\", \"lib\", \"py4j-0.9-src.zip\"))\n",
    "\n",
    "    from pyspark.sql import SparkSession\n",
    "    \n",
    "    os.environ[\"SPARK_LOCAL_IP\"] = \"127.0.0.1\"\n",
    "    spark = SparkSession.builder.master(\"local[*]\").config(\"spark.local.ip\", \"127.0.0.1\").getOrCreate()"
   ]
  },
  {
   "cell_type": "markdown",
   "metadata": {},
   "source": [
    "### Data source\n",
    "\n",
    "Data source used: http://www.data.gouv.fr/fr/datasets/fichier-des-prenoms-edition-2016/"
   ]
  },
  {
   "cell_type": "code",
   "execution_count": 2,
   "metadata": {
    "scrolled": true
   },
   "outputs": [
    {
     "name": "stdout",
     "output_type": "stream",
     "text": [
      "root\n",
      " |-- sexe: string (nullable = true)\n",
      " |-- preusuel: string (nullable = true)\n",
      " |-- annais: string (nullable = true)\n",
      " |-- dpt: string (nullable = true)\n",
      " |-- nombre: string (nullable = true)\n",
      "\n"
     ]
    }
   ],
   "source": [
    "firstnames = spark.read.csv(\"data/dpt2015.txt\", header=True, sep=\"\\t\", encoding=\"utf-8\")\n",
    "firstnames.printSchema()"
   ]
  },
  {
   "cell_type": "markdown",
   "metadata": {},
   "source": [
    "### Clean dataset\n",
    "\n",
    "- Only keep first names with at leat 2 characters.\n",
    "- Remove invalid first names.\n",
    "- Cast columns.\n",
    "- Rename columns."
   ]
  },
  {
   "cell_type": "code",
   "execution_count": 3,
   "metadata": {},
   "outputs": [
    {
     "name": "stdout",
     "output_type": "stream",
     "text": [
      "root\n",
      " |-- firstname: string (nullable = true)\n",
      " |-- gender: integer (nullable = true)\n",
      " |-- birth_year: integer (nullable = true)\n",
      " |-- count: integer (nullable = true)\n",
      "\n"
     ]
    }
   ],
   "source": [
    "from pyspark.sql.functions import when, length, lower\n",
    "\n",
    "firstnames = firstnames \\\n",
    "    .filter(length(firstnames.preusuel) > 1) \\\n",
    "    .filter(firstnames.preusuel != \"_PRENOMS_RARES\") \\\n",
    "    .withColumnRenamed(\"preusuel\", \"firstname\") \\\n",
    "    .withColumn(\"gender\", firstnames.sexe.cast(\"int\")) \\\n",
    "    .withColumn(\"birth_year\", when(firstnames.annais.startswith(\"X\"), None).otherwise(firstnames.annais.cast(\"int\"))) \\\n",
    "    .withColumn(\"count\", firstnames.nombre.cast(\"int\")) \\\n",
    "    .drop(\"preusuel\") \\\n",
    "    .drop(\"sexe\") \\\n",
    "    .drop(\"dpt\") \\\n",
    "    .drop(\"annais\") \\\n",
    "    .drop(\"nombre\")\n",
    "    \n",
    "firstnames.printSchema()"
   ]
  },
  {
   "cell_type": "markdown",
   "metadata": {},
   "source": [
    "### Group dataset\n",
    "\n",
    "Group by first name, pivot by gender, aggregate by most recent year first name was used and number of occurences."
   ]
  },
  {
   "cell_type": "code",
   "execution_count": 6,
   "metadata": {},
   "outputs": [
    {
     "name": "stdout",
     "output_type": "stream",
     "text": [
      "root\n",
      " |-- firstname: string (nullable = true)\n",
      " |-- 1_year: integer (nullable = true)\n",
      " |-- 1_count: long (nullable = true)\n",
      " |-- 2_year: integer (nullable = true)\n",
      " |-- 2_count: long (nullable = true)\n",
      "\n"
     ]
    }
   ],
   "source": [
    "from pyspark.sql.functions import max, sum\n",
    "\n",
    "firstnames_gpby = firstnames \\\n",
    "    .groupBy(\"firstname\") \\\n",
    "    .pivot(\"gender\", [1, 2]) \\\n",
    "    .agg(max(\"birth_year\").alias(\"year\"), sum(\"count\").alias(\"count\"))\n",
    "\n",
    "firstnames_gpby.printSchema()"
   ]
  },
  {
   "cell_type": "markdown",
   "metadata": {},
   "source": [
    "Convert first names:\n",
    "    \n",
    "- Remove accents.\n",
    "- Lower case."
   ]
  },
  {
   "cell_type": "code",
   "execution_count": 7,
   "metadata": {
    "collapsed": true
   },
   "outputs": [],
   "source": [
    "from pyspark.sql.functions import udf\n",
    "from unidecode import unidecode\n",
    "\n",
    "def decode_firstname(firstname):\n",
    "    return unidecode(firstname).encode(\"ascii\").lower()\n",
    "\n",
    "udf_decode_firstname = udf(decode_firstname)\n",
    "\n",
    "firstnames_gpby = firstnames_gpby \\\n",
    "    .withColumn(\"firstname\", udf_decode_firstname(firstnames.firstname))"
   ]
  },
  {
   "cell_type": "markdown",
   "metadata": {},
   "source": [
    "### Persist dataset\n",
    "\n",
    "Order by first name (ascending)."
   ]
  },
  {
   "cell_type": "code",
   "execution_count": 8,
   "metadata": {
    "scrolled": false
   },
   "outputs": [
    {
     "data": {
      "text/plain": [
       "[]"
      ]
     },
     "execution_count": 8,
     "metadata": {},
     "output_type": "execute_result"
    }
   ],
   "source": [
    "%%!\n",
    "rm -r \"staging/firstnames.csv\""
   ]
  },
  {
   "cell_type": "code",
   "execution_count": 9,
   "metadata": {},
   "outputs": [],
   "source": [
    "from pyspark.sql.functions import desc\n",
    "\n",
    "firstnames_gpby \\\n",
    "    .coalesce(1) \\\n",
    "    .sort(\"firstname\") \\\n",
    "    .write \\\n",
    "        .option(\"charset\", \"utf-8\") \\\n",
    "        .csv(\"staging/firstnames.csv\", header=True, sep=\"\\t\")"
   ]
  },
  {
   "cell_type": "code",
   "execution_count": null,
   "metadata": {
    "collapsed": true
   },
   "outputs": [],
   "source": []
  }
 ],
 "metadata": {
  "kernelspec": {
   "display_name": "Python 2",
   "language": "python",
   "name": "python2"
  },
  "language_info": {
   "codemirror_mode": {
    "name": "ipython",
    "version": 2
   },
   "file_extension": ".py",
   "mimetype": "text/x-python",
   "name": "python",
   "nbconvert_exporter": "python",
   "pygments_lexer": "ipython2",
   "version": "2.7.10"
  }
 },
 "nbformat": 4,
 "nbformat_minor": 2
}
