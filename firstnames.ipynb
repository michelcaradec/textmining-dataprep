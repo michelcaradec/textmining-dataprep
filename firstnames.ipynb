{
 "cells": [
  {
   "cell_type": "markdown",
   "metadata": {
    "deletable": true,
    "editable": true
   },
   "source": [
    "# First names processing"
   ]
  },
  {
   "cell_type": "markdown",
   "metadata": {
    "deletable": true,
    "editable": true
   },
   "source": [
    "## pyspark initialization"
   ]
  },
  {
   "cell_type": "code",
   "execution_count": 1,
   "metadata": {
    "collapsed": false,
    "deletable": true,
    "editable": true,
    "scrolled": true
   },
   "outputs": [
    {
     "name": "stdout",
     "output_type": "stream",
     "text": [
      "Welcome to\n",
      "      ____              __\n",
      "     / __/__  ___ _____/ /__\n",
      "    _\\ \\/ _ \\/ _ `/ __/  '_/\n",
      "   /__ / .__/\\_,_/_/ /_/\\_\\   version 2.1.0\n",
      "      /_/\n",
      "\n",
      "Using Python version 2.7.10 (default, Dec  5 2015 11:51:52)\n",
      "SparkSession available as 'spark'.\n"
     ]
    }
   ],
   "source": [
    "# Initialize pyspark\n",
    "import os\n",
    "\n",
    "def is_spark_initialized():\n",
    "    try:\n",
    "        if sc:\n",
    "            return True\n",
    "    except:\n",
    "        pass\n",
    "    return False\n",
    "\n",
    "if is_spark_initialized():\n",
    "     # SparkContext already initialized (eg. Notebook was launched from pyspark)\n",
    "    pass\n",
    "else:\n",
    "    # /!\\ Network interface must be active in order to initialize SparkContext\n",
    "    os.environ[\"SPARK_LOCAL_IP\"] = \"127.0.0.1\"\n",
    "    execfile(os.path.join(os.environ[\"SPARK_HOME\"], \"python\", \"pyspark\", \"shell.py\"))"
   ]
  },
  {
   "cell_type": "code",
   "execution_count": 2,
   "metadata": {
    "collapsed": false,
    "deletable": true,
    "editable": true,
    "scrolled": true
   },
   "outputs": [
    {
     "name": "stdout",
     "output_type": "stream",
     "text": [
      "pyspark for Spark 2.1.0 is initialized: http://127.0.0.1:4040\n"
     ]
    }
   ],
   "source": [
    "# Check sc variable\n",
    "if sc:\n",
    "    print \"pyspark for Spark %s is initialized: %s\" % (sc.version, sc.uiWebUrl)\n",
    "else:\n",
    "    print \"/!\\ pyspark not initialized\""
   ]
  },
  {
   "cell_type": "markdown",
   "metadata": {
    "deletable": true,
    "editable": true
   },
   "source": [
    "## First names\n",
    "\n",
    "### Data source\n",
    "\n",
    "Data source used: http://www.data.gouv.fr/fr/datasets/fichier-des-prenoms-edition-2016/"
   ]
  },
  {
   "cell_type": "code",
   "execution_count": 3,
   "metadata": {
    "collapsed": false,
    "deletable": true,
    "editable": true
   },
   "outputs": [],
   "source": [
    "ds_root = \"data/\"\n",
    "ds_staging = \"staging/\"\n",
    "ds_filename = \"dpt2015.txt\"\n",
    "os.environ[\"FIRSTNAMES_ROOT\"] = ds_root\n",
    "os.environ[\"FIRSTNAMES_STAGING\"] = ds_staging\n",
    "\n",
    "dpt2015 = sc.textFile(os.path.join(ds_root, ds_filename), use_unicode=True)"
   ]
  },
  {
   "cell_type": "markdown",
   "metadata": {
    "deletable": true,
    "editable": true
   },
   "source": [
    "### Helpers"
   ]
  },
  {
   "cell_type": "code",
   "execution_count": 4,
   "metadata": {
    "collapsed": false,
    "deletable": true,
    "editable": true
   },
   "outputs": [],
   "source": [
    "from unidecode import unidecode\n",
    "\n",
    "\n",
    "def decode_firstname(firstname):\n",
    "    return unidecode(firstname).encode(\"ascii\").lower()\n",
    "\n",
    "\n",
    "def decode_gender(gender):\n",
    "    return int(gender)\n",
    "\n",
    "\n",
    "def accumulate_gender(acc, gender):\n",
    "    \"\"\"\n",
    "    1 = male, 2 = female, 3 = both\n",
    "    (male, male) => male\n",
    "    (female, female) => female\n",
    "    (male, female) => both\n",
    "    (female, male) => both\n",
    "    \"\"\"\n",
    "    return (acc if acc == gender else 3) if acc else gender"
   ]
  },
  {
   "cell_type": "markdown",
   "metadata": {
    "deletable": true,
    "editable": true
   },
   "source": [
    "### Prepare data source\n",
    "\n",
    "1. Remove header.\n",
    "2. Split each line into tokens.\n",
    "3. Remove unexpected tokens."
   ]
  },
  {
   "cell_type": "code",
   "execution_count": 5,
   "metadata": {
    "collapsed": false,
    "deletable": true,
    "editable": true
   },
   "outputs": [],
   "source": [
    "# line => str[]\n",
    "dpt2015_no_header = dpt2015 \\\n",
    "    .filter(lambda x: not x.startswith(\"sexe\\tpreusuel\")) \\\n",
    "    .map(lambda x: x.split()) \\\n",
    "    .filter(lambda x: x[1] != \"_PRENOMS_RARES\" and len(x[1]) > 1)"
   ]
  },
  {
   "cell_type": "markdown",
   "metadata": {
    "deletable": true,
    "editable": true
   },
   "source": [
    "### Generate first names"
   ]
  },
  {
   "cell_type": "code",
   "execution_count": 6,
   "metadata": {
    "collapsed": true,
    "deletable": true,
    "editable": true
   },
   "outputs": [],
   "source": [
    "# str[] => (firstname, None)\n",
    "firstnames = \\\n",
    "    dpt2015_no_header \\\n",
    "    .map(lambda x: (decode_firstname(x[1]), None)) \\\n",
    "    .reduceByKey(lambda x, y: None)"
   ]
  },
  {
   "cell_type": "code",
   "execution_count": null,
   "metadata": {
    "collapsed": false,
    "deletable": true,
    "editable": true,
    "scrolled": false
   },
   "outputs": [],
   "source": [
    "%%!\n",
    "rm -r $FIRSTNAMES_STAGING\"firstnames.txt\""
   ]
  },
  {
   "cell_type": "code",
   "execution_count": 8,
   "metadata": {
    "collapsed": false,
    "deletable": true,
    "editable": true
   },
   "outputs": [],
   "source": [
    "firstnames.coalesce(1) \\\n",
    "    .sortBy(lambda (k, v): k) \\\n",
    "    .map(lambda (k, v): k) \\\n",
    "    .saveAsTextFile(os.path.join(ds_staging, \"firstnames.txt\"))"
   ]
  },
  {
   "cell_type": "markdown",
   "metadata": {
    "deletable": true,
    "editable": true
   },
   "source": [
    "### Generate first names with gender"
   ]
  },
  {
   "cell_type": "code",
   "execution_count": 9,
   "metadata": {
    "collapsed": true,
    "deletable": true,
    "editable": true
   },
   "outputs": [],
   "source": [
    "# str[] => (firstname, gender)\n",
    "firstnames_with_gender = \\\n",
    "     dpt2015_no_header \\\n",
    "    .map(lambda x: (decode_firstname(x[1]), decode_gender(x[0]))) \\\n",
    "    .reduceByKey(lambda x, y: accumulate_gender(x, y))"
   ]
  },
  {
   "cell_type": "code",
   "execution_count": null,
   "metadata": {
    "collapsed": false,
    "deletable": true,
    "editable": true,
    "scrolled": false
   },
   "outputs": [],
   "source": [
    "%%!\n",
    "rm -r $FIRSTNAMES_STAGING\"firstnames_with_gender.txt\""
   ]
  },
  {
   "cell_type": "code",
   "execution_count": 11,
   "metadata": {
    "collapsed": false,
    "deletable": true,
    "editable": true
   },
   "outputs": [],
   "source": [
    "firstnames_with_gender.coalesce(1) \\\n",
    "    .sortBy(lambda (k, v): k) \\\n",
    "    .map(lambda (k, v): \"%s\\t%d\" % (k, v)) \\\n",
    "    .saveAsTextFile(os.path.join(ds_staging, \"firstnames_with_gender.txt\"))"
   ]
  },
  {
   "cell_type": "code",
   "execution_count": null,
   "metadata": {
    "collapsed": false,
    "deletable": true,
    "editable": true
   },
   "outputs": [],
   "source": [
    "%%!\n",
    "cp $FIRSTNAMES_STAGING\"firstnames_with_gender.txt/part-00000\" $FIRSTNAMES_ROOT\"firstnames.txt\""
   ]
  },
  {
   "cell_type": "markdown",
   "metadata": {
    "deletable": true,
    "editable": true
   },
   "source": [
    "## Cleaning"
   ]
  },
  {
   "cell_type": "code",
   "execution_count": null,
   "metadata": {
    "collapsed": false,
    "deletable": true,
    "editable": true
   },
   "outputs": [],
   "source": [
    "%%!\n",
    "rm -r $FIRSTNAMES_STAGING\"firstnames.txt\"\n",
    "rm -r $FIRSTNAMES_STAGING\"firstnames_with_gender.txt\""
   ]
  }
 ],
 "metadata": {
  "kernelspec": {
   "display_name": "Python 2",
   "language": "python",
   "name": "python2"
  },
  "language_info": {
   "codemirror_mode": {
    "name": "ipython",
    "version": 2
   },
   "file_extension": ".py",
   "mimetype": "text/x-python",
   "name": "python",
   "nbconvert_exporter": "python",
   "pygments_lexer": "ipython2",
   "version": "2.7.10"
  }
 },
 "nbformat": 4,
 "nbformat_minor": 1
}
